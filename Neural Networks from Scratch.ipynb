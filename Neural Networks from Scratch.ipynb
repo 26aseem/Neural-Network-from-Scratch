{
 "cells": [
  {
   "cell_type": "markdown",
   "metadata": {},
   "source": [
    "# Neural Network from Scratch"
   ]
  },
  {
   "cell_type": "code",
   "execution_count": 20,
   "metadata": {},
   "outputs": [],
   "source": [
    "import numpy as np "
   ]
  },
  {
   "cell_type": "markdown",
   "metadata": {},
   "source": [
    "# Dataset is created"
   ]
  },
  {
   "cell_type": "code",
   "execution_count": 21,
   "metadata": {},
   "outputs": [],
   "source": [
    "# Dataset is created\n",
    "# Input Data with n features\n",
    "\n",
    "X = [\n",
    "     [1.0, 2.0, 3.0, 4.0],\n",
    "     [2.0, 5.0, 1.0, 2.0],\n",
    "     [1.5, 2.7, 3.3, 0.8]\n",
    "    ]\n",
    "\n",
    "# Number of features\n",
    "num_of_features = 4\n",
    "\n",
    "# Number of outputs\n",
    "num_of_outputs = 2"
   ]
  },
  {
   "cell_type": "markdown",
   "metadata": {},
   "source": [
    "# Class Declaration for Layers and Hidden Layer Activation Function"
   ]
  },
  {
   "cell_type": "code",
   "execution_count": 22,
   "metadata": {},
   "outputs": [],
   "source": [
    "# Class Declaration for Layer\n",
    "# Hidden Layer Activation Function\n",
    "# ReLU stands for Rectified Linear Unit\n",
    "\n",
    "class Layer_Dense:\n",
    "    def __init__(self, n_inputs, n_neurons):\n",
    "        self.weights = np.random.randn(n_inputs, n_neurons) * 0.10\n",
    "        self.biases = np.zeros((1, n_neurons))\n",
    "        \n",
    "    def forward(self, inputs):\n",
    "        self.output = np.dot(inputs, self.weights) + self.biases\n",
    "        \n",
    "    def activationLayer(self, outputs):\n",
    "        self.HLAF_output = np.maximum(0,outputs)\n",
    "        \n",
    "\n",
    "### The np.dot function does the same function as this code\n",
    "\n",
    "# for neuron_weights, neuron_bias in zip(weights,biases):\n",
    "#     neuron_output = 0\n",
    "#     for weight,n_input in zip(neuron_weights,inputs):\n",
    "#         neuron_output += weight * n_input\n",
    "#     neuron_output += neuron_bias\n",
    "#     layers_output.append(neuron_output)"
   ]
  },
  {
   "cell_type": "markdown",
   "metadata": {},
   "source": [
    "# Layers are created from the input"
   ]
  },
  {
   "cell_type": "code",
   "execution_count": 27,
   "metadata": {},
   "outputs": [
    {
     "name": "stdout",
     "output_type": "stream",
     "text": [
      "OUTPUT:\n",
      "[[ 0.01081546 -0.00487438]\n",
      " [ 0.00939623 -0.0083009 ]\n",
      " [ 0.01470687 -0.00421697]] \n",
      "\n",
      "[[0.01081546 0.        ]\n",
      " [0.00939623 0.        ]\n",
      " [0.01470687 0.        ]] \n",
      "\n"
     ]
    }
   ],
   "source": [
    "# Seed the generator\n",
    "np.random.seed(0)\n",
    "\n",
    "# Number of inputs for each layer is the number of features in the input\n",
    "n = num_of_features\n",
    "\n",
    "# Number of inputs for each layer is the number of features in the input\n",
    "p = num_of_outputs\n",
    "\n",
    "layer1 = Layer_Dense(n,60)\n",
    "layer2 = Layer_Dense(60,20)\n",
    "layer3 = Layer_Dense(20,8)\n",
    "layer4 = Layer_Dense(8,p)\n",
    "\n",
    "# Output of each layer is created and assigned as input to next layer\n",
    "layer1.forward(X)\n",
    "layer1.activationLayer(layer1.output)\n",
    "\n",
    "layer2.forward(layer1.HLAF_output)\n",
    "layer2.activationLayer(layer2.output)\n",
    "\n",
    "layer3.forward(layer2.HLAF_output)\n",
    "layer3.activationLayer(layer3.output)\n",
    "\n",
    "layer4.forward(layer3.HLAF_output)\n",
    "layer4.activationLayer(layer4.output)\n",
    "\n",
    "# Output is printed\n",
    "\n",
    "print(\"OUTPUT:\")\n",
    "print(layer4.output,\"\\n\")\n",
    "print(layer4.HLAF_output,\"\\n\")"
   ]
  },
  {
   "cell_type": "code",
   "execution_count": null,
   "metadata": {},
   "outputs": [],
   "source": []
  }
 ],
 "metadata": {
  "kernelspec": {
   "display_name": "Python 3",
   "language": "python",
   "name": "python3"
  },
  "language_info": {
   "codemirror_mode": {
    "name": "ipython",
    "version": 3
   },
   "file_extension": ".py",
   "mimetype": "text/x-python",
   "name": "python",
   "nbconvert_exporter": "python",
   "pygments_lexer": "ipython3",
   "version": "3.7.6"
  }
 },
 "nbformat": 4,
 "nbformat_minor": 4
}
