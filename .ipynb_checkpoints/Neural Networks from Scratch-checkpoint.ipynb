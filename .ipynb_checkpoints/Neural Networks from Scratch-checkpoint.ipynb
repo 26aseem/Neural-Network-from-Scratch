{
 "cells": [
  {
   "cell_type": "markdown",
   "metadata": {},
   "source": [
    "# Neural Network from Scratch"
   ]
  },
  {
   "cell_type": "code",
   "execution_count": 14,
   "metadata": {},
   "outputs": [],
   "source": [
    "import numpy as np "
   ]
  },
  {
   "cell_type": "markdown",
   "metadata": {},
   "source": [
    "# Dataset is created"
   ]
  },
  {
   "cell_type": "code",
   "execution_count": 15,
   "metadata": {},
   "outputs": [],
   "source": [
    "# Function to create input dataset\n",
    "def create_data(num_of_features,points,classes):\n",
    "    X = np.zeros((points*classes, num_of_features))\n",
    "    \n",
    "    for c in range(classes):\n",
    "        i = range(points*c, points*(c+1))\n",
    "        r = np.linspace(0.0,1,points*num_of_features)\n",
    "        t = np.linspace(c*classes, (c+1)*classes, points*num_of_features) + np.random.randn(points*num_of_features)*0.1\n",
    "        \n",
    "        m = np.sin(t[:points*num_of_features//2]*2.5) * r[:points*num_of_features//2]\n",
    "        n = np.cos(t[points*num_of_features//2:]*2.5) * r[points*num_of_features//2:]\n",
    "        \n",
    "        q = np.concatenate((m,n)).reshape(points,num_of_features)\n",
    "        \n",
    "        X[i] = q\n",
    "                \n",
    "    return X\n",
    "    "
   ]
  },
  {
   "cell_type": "code",
   "execution_count": 16,
   "metadata": {},
   "outputs": [],
   "source": [
    "# Number of features in the input data\n",
    "num_of_features = 4\n",
    "\n",
    "# Number of Points in the dataset\n",
    "points = 20\n",
    "classes = 2\n",
    "\n",
    "# Dataset is created\n",
    "X = create_data(num_of_features,points,classes)\n",
    "\n",
    "\n",
    "# Number of outputs\n",
    "num_of_outputs = 2"
   ]
  },
  {
   "cell_type": "markdown",
   "metadata": {},
   "source": [
    "# Class Declaration for Layers and Hidden Layer Activation Function"
   ]
  },
  {
   "cell_type": "code",
   "execution_count": 17,
   "metadata": {},
   "outputs": [],
   "source": [
    "# Class Declaration for Layer\n",
    "# Hidden Layer Activation Function\n",
    "# ReLU stands for Rectified Linear Unit\n",
    "\n",
    "class Layer_Dense:\n",
    "    def __init__(self, n_inputs, n_neurons):\n",
    "        self.weights = np.random.randn(n_inputs, n_neurons) * 0.10\n",
    "        self.biases = np.zeros((1, n_neurons))\n",
    "        \n",
    "    def forward(self, inputs):\n",
    "        self.output = np.dot(inputs, self.weights) + self.biases\n",
    "        \n",
    "    def activationLayer(self, outputs):\n",
    "        self.HLAF_output = np.maximum(0,outputs)\n",
    "        \n",
    "\n",
    "### The np.dot function does the same function as this code\n",
    "\n",
    "# for neuron_weights, neuron_bias in zip(weights,biases):\n",
    "#     neuron_output = 0\n",
    "#     for weight,n_input in zip(neuron_weights,inputs):\n",
    "#         neuron_output += weight * n_input\n",
    "#     neuron_output += neuron_bias\n",
    "#     layers_output.append(neuron_output)"
   ]
  },
  {
   "cell_type": "markdown",
   "metadata": {},
   "source": [
    "# Layers are created from the input"
   ]
  },
  {
   "cell_type": "code",
   "execution_count": 18,
   "metadata": {},
   "outputs": [
    {
     "name": "stdout",
     "output_type": "stream",
     "text": [
      "OUTPUT:\n",
      "\n",
      "\n",
      "[[2.41559184e-05 0.00000000e+00]\n",
      " [1.44409546e-04 5.35453977e-05]\n",
      " [3.31775837e-04 0.00000000e+00]\n",
      " [4.60403056e-04 0.00000000e+00]\n",
      " [1.17150924e-03 0.00000000e+00]\n",
      " [1.44681150e-03 0.00000000e+00]\n",
      " [2.00386189e-03 0.00000000e+00]\n",
      " [2.30372916e-03 0.00000000e+00]\n",
      " [2.13210250e-03 0.00000000e+00]\n",
      " [2.68730502e-03 0.00000000e+00]\n",
      " [1.37156431e-03 2.01861335e-03]\n",
      " [2.13285438e-03 2.60121425e-03]\n",
      " [2.34525845e-03 3.31672911e-03]\n",
      " [2.62228754e-03 3.53646890e-03]\n",
      " [2.35768696e-03 2.32055776e-03]\n",
      " [1.77502489e-03 9.99314194e-04]\n",
      " [1.56141645e-03 5.62100683e-04]\n",
      " [1.06835595e-03 1.79195265e-03]\n",
      " [2.36083548e-03 2.35859055e-03]\n",
      " [3.13335984e-03 4.16992468e-04]\n",
      " [3.63642180e-05 1.47848883e-04]\n",
      " [1.78318240e-04 2.80716144e-04]\n",
      " [2.04341029e-05 0.00000000e+00]\n",
      " [0.00000000e+00 0.00000000e+00]\n",
      " [7.66578651e-05 0.00000000e+00]\n",
      " [2.54769281e-04 0.00000000e+00]\n",
      " [4.52322237e-04 0.00000000e+00]\n",
      " [1.00960336e-03 0.00000000e+00]\n",
      " [1.68200897e-03 0.00000000e+00]\n",
      " [2.87191933e-03 0.00000000e+00]\n",
      " [4.65659208e-04 0.00000000e+00]\n",
      " [8.60990914e-04 8.79141756e-05]\n",
      " [0.00000000e+00 0.00000000e+00]\n",
      " [7.79735517e-04 4.87054382e-04]\n",
      " [6.06186576e-04 9.94813418e-04]\n",
      " [2.63032022e-03 4.24104414e-03]\n",
      " [2.87638621e-03 3.46047851e-03]\n",
      " [3.19732807e-03 4.34462330e-03]\n",
      " [2.73790373e-03 3.60867133e-03]\n",
      " [3.06696692e-03 3.45980145e-03]]\n"
     ]
    }
   ],
   "source": [
    "# Seed the generator\n",
    "np.random.seed(0)\n",
    "\n",
    "# Number of inputs for each layer is the number of features in the input\n",
    "n = num_of_features\n",
    "\n",
    "# Number of inputs for each layer is the number of features in the input\n",
    "p = num_of_outputs\n",
    "\n",
    "layer1 = Layer_Dense(n,60)\n",
    "layer2 = Layer_Dense(60,20)\n",
    "layer3 = Layer_Dense(20,8)\n",
    "layer4 = Layer_Dense(8,p)\n",
    "\n",
    "# Output of each layer is created and assigned as input to next layer\n",
    "layer1.forward(X)\n",
    "layer1.activationLayer(layer1.output)\n",
    "\n",
    "layer2.forward(layer1.HLAF_output)\n",
    "layer2.activationLayer(layer2.output)\n",
    "\n",
    "layer3.forward(layer2.HLAF_output)\n",
    "layer3.activationLayer(layer3.output)\n",
    "\n",
    "layer4.forward(layer3.HLAF_output)\n",
    "layer4.activationLayer(layer4.output)\n",
    "\n",
    "# Output is printed\n",
    "\n",
    "print(\"OUTPUT:\\n\\n\")\n",
    "print(layer4.HLAF_output)"
   ]
  },
  {
   "cell_type": "code",
   "execution_count": null,
   "metadata": {},
   "outputs": [],
   "source": []
  }
 ],
 "metadata": {
  "kernelspec": {
   "display_name": "Python 3",
   "language": "python",
   "name": "python3"
  },
  "language_info": {
   "codemirror_mode": {
    "name": "ipython",
    "version": 3
   },
   "file_extension": ".py",
   "mimetype": "text/x-python",
   "name": "python",
   "nbconvert_exporter": "python",
   "pygments_lexer": "ipython3",
   "version": "3.7.6"
  }
 },
 "nbformat": 4,
 "nbformat_minor": 4
}
